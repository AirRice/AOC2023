{
 "cells": [
  {
   "cell_type": "markdown",
   "id": "45d20a50",
   "metadata": {},
   "source": [
    "Do some importing bs idk"
   ]
  },
  {
   "cell_type": "code",
   "execution_count": 1,
   "id": "76654e7d",
   "metadata": {},
   "outputs": [],
   "source": [
    "import pandas as pd\n",
    "import numpy as np\n",
    "import random"
   ]
  },
  {
   "cell_type": "markdown",
   "id": "b18aa6e5",
   "metadata": {},
   "source": [
    "Something is wrong with global snow production, and you've been selected to take a look. The Elves have even given you a map; on it, they've used stars to mark the top fifty locations that are likely to be having problems.\n",
    "\n",
    "You've been doing this long enough to know that to restore snow operations, you need to check all fifty stars by December 25th.\n",
    "\n",
    "Collect stars by solving puzzles. Two puzzles will be made available on each day in the Advent calendar; the second puzzle is unlocked when you complete the first. Each puzzle grants one star. Good luck!\n",
    "\n",
    "You try to ask why they can't just use a weather machine (\"not powerful enough\") and where they're even sending you (\"the sky\") and why your map looks mostly blank (\"you sure ask a lot of questions\") and hang on did you just say the sky (\"of course, where do you think snow comes from\") when you realize that the Elves are already loading you into a trebuchet (\"please hold still, we need to strap you in\").\n",
    "\n",
    "As they're making the final adjustments, they discover that their calibration document (your puzzle input) has been amended by a very young Elf who was apparently just excited to show off her art skills. Consequently, the Elves are having trouble reading the values on the document.\n",
    "\n",
    "The newly-improved calibration document consists of lines of text; each line originally contained a specific calibration value that the Elves now need to recover. On each line, the calibration value can be found by combining the first digit and the last digit (in that order) to form a single two-digit number.\n",
    "\n",
    "For example:\n",
    "\n",
    "    1abc2\n",
    "    pqr3stu8vwx\n",
    "    a1b2c3d4e5f\n",
    "    treb7uchet\n",
    "\n",
    "In this example, the calibration values of these four lines are 12, 38, 15, and 77. Adding these together produces 142.\n",
    "\n",
    "Consider your entire calibration document. What is the sum of all of the calibration values?"
   ]
  },
  {
   "cell_type": "code",
   "execution_count": 21,
   "id": "3f8e0a3d",
   "metadata": {},
   "outputs": [
    {
     "name": "stdout",
     "output_type": "stream",
     "text": [
      "54634\n"
     ]
    }
   ],
   "source": [
    "input1 = open('day1/input.txt', 'r')\n",
    "input1_lines = input1.readlines()\n",
    "sum = 0\n",
    "for line in input1_lines:\n",
    "    #print(line)\n",
    "    digits_line = [digit for digit in line if digit.isdigit()]\n",
    "    #print(digits_line)\n",
    "    #print(digits_line[0]+digits_line[-1])\n",
    "    sum += int(digits_line[0])*10+int(digits_line[-1])\n",
    "    #print(int(digits_line[0])*10+int(digits_line[-1]))\n",
    "print(sum)\n",
    "        "
   ]
  },
  {
   "cell_type": "code",
   "execution_count": 25,
   "id": "ac8d981a",
   "metadata": {},
   "outputs": [
    {
     "name": "stdout",
     "output_type": "stream",
     "text": [
      "two1nine\n",
      "\n",
      "t2o1n9ne\n",
      "\n",
      "29\n",
      "eightwothree\n",
      "\n",
      "ei8ht2oth3ee\n",
      "\n",
      "83\n",
      "abcone2threexyz\n",
      "\n",
      "abco1e2th3eexyz\n",
      "\n",
      "13\n",
      "xtwone3four\n",
      "\n",
      "xt2o1e3f4ur\n",
      "\n",
      "24\n",
      "4nineeightseven2\n",
      "\n",
      "4n9neei8htse7en2\n",
      "\n",
      "42\n",
      "zoneight234\n",
      "\n",
      "zo1ei8ht234\n",
      "\n",
      "14\n",
      "7pqrstsixteen\n",
      "7pqrsts6xteen\n",
      "76\n",
      "281\n"
     ]
    }
   ],
   "source": [
    "input1 = open('day1/input.txt', 'r')\n",
    "input1_lines = input1.readlines()\n",
    "digit_words_dict = {\n",
    "    \"o1e\": \"one\",\n",
    "    \"t2o\": \"two\",\n",
    "    \"th3ee\": \"three\",\n",
    "    \"f4ur\": \"four\",\n",
    "    \"f5ve\": \"five\",\n",
    "    \"s6x\": \"six\",\n",
    "    \"se7en\": \"seven\",\n",
    "    \"ei8ht\": \"eight\",\n",
    "    \"n9ne\": \"nine\"\n",
    "}\n",
    "sum = 0\n",
    "for line in input1_lines:\n",
    "    print(line)\n",
    "    for val, word in digit_words_dict.items():\n",
    "        line = line.replace(word.lower(), val)\n",
    "    print(line)\n",
    "    digit_words_line = [digit for digit in line if digit.isdigit()]\n",
    "    #print(digit_words_line)\n",
    "    print(digit_words_line[0]+digit_words_line[-1])\n",
    "    sum += (int(digit_words_line[0])*10+int(digit_words_line[-1]))\n",
    "    #print(int(digit_words_line[0])*10+int(digit_words_line[-1]))\n",
    "print(sum)"
   ]
  },
  {
   "cell_type": "code",
   "execution_count": null,
   "id": "552aec66",
   "metadata": {},
   "outputs": [],
   "source": []
  }
 ],
 "metadata": {
  "kernelspec": {
   "display_name": "Python 3 (ipykernel)",
   "language": "python",
   "name": "python3"
  },
  "language_info": {
   "codemirror_mode": {
    "name": "ipython",
    "version": 3
   },
   "file_extension": ".py",
   "mimetype": "text/x-python",
   "name": "python",
   "nbconvert_exporter": "python",
   "pygments_lexer": "ipython3",
   "version": "3.11.5"
  }
 },
 "nbformat": 4,
 "nbformat_minor": 5
}
