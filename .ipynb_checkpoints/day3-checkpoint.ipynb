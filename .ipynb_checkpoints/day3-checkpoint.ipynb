{
 "cells": [
  {
   "cell_type": "code",
   "execution_count": 30,
   "id": "ec195875",
   "metadata": {},
   "outputs": [],
   "source": [
    "import pandas as pd\n",
    "import numpy as np\n",
    "import random\n",
    "import re"
   ]
  },
  {
   "cell_type": "markdown",
   "id": "6acbbea2",
   "metadata": {},
   "source": [
    "You and the Elf eventually reach a gondola lift station; he says the gondola lift will take you up to the water source, but this is as far as he can bring you. You go inside.\n",
    "\n",
    "It doesn't take long to find the gondolas, but there seems to be a problem: they're not moving.\n",
    "\n",
    "\"Aaah!\"\n",
    "\n",
    "You turn around to see a slightly-greasy Elf with a wrench and a look of surprise. \"Sorry, I wasn't expecting anyone! The gondola lift isn't working right now; it'll still be a while before I can fix it.\" You offer to help.\n",
    "\n",
    "The engineer explains that an engine part seems to be missing from the engine, but nobody can figure out which one. If you can add up all the part numbers in the engine schematic, it should be easy to work out which part is missing.\n",
    "\n",
    "The engine schematic (your puzzle input) consists of a visual representation of the engine. There are lots of numbers and symbols you don't really understand, but apparently any number adjacent to a symbol, even diagonally, is a \"part number\" and should be included in your sum. (Periods (.) do not count as a symbol.)\n",
    "\n",
    "Here is an example engine schematic:\n",
    "\n",
    "    467..114..\n",
    "    ...*......\n",
    "    ..35..633.\n",
    "    ......#...\n",
    "    617*......\n",
    "    .....+.58.\n",
    "    ..592.....\n",
    "    ......755.\n",
    "    ...$.*....\n",
    "    .664.598..\n",
    "\n",
    "In this schematic, two numbers are not part numbers because they are not adjacent to a symbol: 114 (top right) and 58 (middle right). Every other number is adjacent to a symbol and so is a part number; their sum is 4361.\n",
    "\n",
    "Of course, the actual engine schematic is much larger. What is the sum of all of the part numbers in the engine schematic?"
   ]
  },
  {
   "cell_type": "code",
   "execution_count": 42,
   "id": "158204b7",
   "metadata": {},
   "outputs": [
    {
     "name": "stdout",
     "output_type": "stream",
     "text": [
      "Number 11 found\n",
      "looking in current line\n",
      "looking at: 1.\n",
      "looking in next line\n",
      "looking at: ...\n",
      "Number 11 found\n",
      "looking in current line\n",
      "looking at: .\n",
      "\n",
      "looking in next line\n",
      "looking at: ...\n",
      "Number 11 found\n",
      "looking in current line\n",
      "looking at: 1.\n",
      "looking in previous line\n",
      "looking at: ...\n",
      "Number 11 found\n",
      "looking in current line\n",
      "looking at: .1\n",
      "looking in previous line\n",
      "looking at: ..\n",
      "0\n"
     ]
    }
   ],
   "source": [
    "input3 = open('day3/input.txt', 'r')\n",
    "input3_lines = input3.readlines()\n",
    "sum = 0\n",
    "\n",
    "for i, line in enumerate(input3_lines):\n",
    "    #assume as false; mark true if adjacent symbol found\n",
    "    valid = False\n",
    "\n",
    "    for match_curline in re.finditer(r\"(\\d+)\", line):\n",
    "        print(\"Number \"+match_curline.group(1)+\" found\")\n",
    "        start = match_curline.start()\n",
    "        end = match_curline.end()\n",
    "        print(\"looking in current line\")\n",
    "        prev_and_next_chars = line[max(start-1,0)] + line[min(end,len(line)-1)]\n",
    "        print(\"looking at: \"+prev_and_next_chars)\n",
    "        valid_curline = re.search(r\"([^\\dA-z\\.\\n])\",prev_and_next_chars)\n",
    "        valid = valid_curline\n",
    "        if not valid_curline:\n",
    "            if i > 0:\n",
    "                print(\"looking in previous line\")\n",
    "                prev_line = input3_lines[i-1]\n",
    "                prev_line_lookup = prev_line[max(start-1,0):min(end+1,len(line)-1)]\n",
    "                print(\"looking at: \"+prev_line_lookup)\n",
    "                valid_prevline = re.search(r\"([^\\dA-z\\.\\n])\", prev_line_lookup)\n",
    "                valid = valid or valid_prevline\n",
    "            if i < len(input3_lines)-1:\n",
    "                print(\"looking in next line\")\n",
    "                next_line = input3_lines[i+1]\n",
    "                next_line_lookup = next_line[max(start-1,0):min(end+1,len(line)-1)]\n",
    "                print(\"looking at: \"+next_line_lookup)\n",
    "                valid_nextline = re.search(r\"([^\\dA-z\\.\\n])\", next_line_lookup)\n",
    "                valid = valid or valid_nextline\n",
    "        if valid:\n",
    "            print(\"Is a valid part number\")\n",
    "            sum+= int(match_curline.group(1))\n",
    "print(sum)\n",
    "        "
   ]
  },
  {
   "cell_type": "code",
   "execution_count": null,
   "id": "af46b87e",
   "metadata": {},
   "outputs": [],
   "source": []
  },
  {
   "cell_type": "code",
   "execution_count": null,
   "id": "f947a2ec",
   "metadata": {},
   "outputs": [],
   "source": []
  }
 ],
 "metadata": {
  "kernelspec": {
   "display_name": "Python 3 (ipykernel)",
   "language": "python",
   "name": "python3"
  },
  "language_info": {
   "codemirror_mode": {
    "name": "ipython",
    "version": 3
   },
   "file_extension": ".py",
   "mimetype": "text/x-python",
   "name": "python",
   "nbconvert_exporter": "python",
   "pygments_lexer": "ipython3",
   "version": "3.11.5"
  }
 },
 "nbformat": 4,
 "nbformat_minor": 5
}
